{
  "nbformat": 4,
  "nbformat_minor": 0,
  "metadata": {
    "colab": {
      "provenance": []
    },
    "kernelspec": {
      "name": "python3",
      "display_name": "Python 3"
    },
    "language_info": {
      "name": "python"
    }
  },
  "cells": [
    {
      "cell_type": "markdown",
      "source": [
        "#Theory Question of OOPs"
      ],
      "metadata": {
        "id": "jGun4tLPB3vV"
      }
    },
    {
      "cell_type": "markdown",
      "source": [
        "1. What is Object-Oriented Programming (OOP)?\n",
        ">>OOP is a programming paradigm that organizes software design around objects, which are instances of classes. It emphasizes encapsulation, inheritance, abstraction, and polymorphism to create reusable and modular code."
      ],
      "metadata": {
        "id": "MZAkUJizC09t"
      }
    },
    {
      "cell_type": "markdown",
      "source": [
        "2. What is a class in OOP?\n",
        ">>A class is a blueprint for creating objects. It defines attributes (variables) and methods (functions) that describe the behavior and state of an object.\n",
        "#example\n",
        "   class Dog:\n",
        "        \n",
        "        def bark(self):\n",
        "     \n",
        "        print(\"Woof!\")\n"
      ],
      "metadata": {
        "id": "LQZfixIPEvl4"
      }
    },
    {
      "cell_type": "markdown",
      "source": [
        " 3.What is an object in OOP?\n",
        " >>An object is an instance of a class. It contains actual values for the properties defined by the class and can call its methods.\n",
        "  \n",
        "  #example\n",
        "\n",
        "     class Dog:\n",
        "\n",
        "    def bark(self):\n",
        "\n",
        "        print(\"Woof!\")\n",
        "\n",
        "     my_dog = Dog()\n",
        "\n",
        "      my_dog.bark()  # Output: Woof!\n"
      ],
      "metadata": {
        "id": "TnjvHEAxFfuU"
      }
    },
    {
      "cell_type": "markdown",
      "source": [
        "4. What is the difference between abstraction and encapsulation?\n",
        ">>Abstraction hides complex implementation details and shows only the essential features.\n",
        "\n",
        " * Encapsulation hides the internal state of an object and allows controlled access via methods."
      ],
      "metadata": {
        "id": "QHeKaqSBGYto"
      }
    },
    {
      "cell_type": "markdown",
      "source": [
        "5. What are dunder methods in Python?\n",
        ">>“Dunder” methods (double underscore) are special methods with names like __init__, __str__, and __add__ that allow operator overloading and customization of object behavior."
      ],
      "metadata": {
        "id": "ZcFBtK6nG87D"
      }
    },
    {
      "cell_type": "markdown",
      "source": [
        "6. Explain the concept of inheritance in OOP?\n",
        ">>Inheritance allows a class (child) to inherit properties and methods from another class (parent), promoting code reuse.\n",
        "#example\n",
        "    class Animal:\n",
        "    def speak(self):\n",
        "        print(\"Sound\")\n",
        "\n",
        "    class Dog(Animal):\n",
        "    def speak(self):\n",
        "        print(\"Bark\")\n"
      ],
      "metadata": {
        "id": "YEgdljizHQmo"
      }
    },
    {
      "cell_type": "markdown",
      "source": [
        "7. What is polymorphism in OOP?\n",
        ">>Polymorphism means different classes can define the same method name with different behavior. It allows functions to use objects of different classes interchangeably."
      ],
      "metadata": {
        "id": "Q9viJ0DnH5DA"
      }
    },
    {
      "cell_type": "markdown",
      "source": [
        "8. How is encapsulation achieved in Python?\n",
        ">>Encapsulation is achieved using private (_, __) variables and getter/setter methods to control access.\n",
        "#example\n",
        "    class Person:\n",
        "    def __init__(self, age):\n",
        "        self.__age = age  # private\n",
        "\n",
        "    def get_age(self):\n",
        "        return self.__age\n"
      ],
      "metadata": {
        "id": "gwxQ-QUNIZ4o"
      }
    },
    {
      "cell_type": "markdown",
      "source": [
        "9. What is a constructor in Python?\n",
        ">>A constructor is a special method named __init__ that is called when an object is created to initialize its attributes."
      ],
      "metadata": {
        "id": "bJfu-vHcI14a"
      }
    },
    {
      "cell_type": "markdown",
      "source": [
        "10.What are class and static methods in Python?\n",
        ">>*  @classmethod: Takes cls as the first argument, works with class variables.\n",
        "\n",
        " * @staticmethod: Doesn’t take self or cls; behaves like a regular function inside the class."
      ],
      "metadata": {
        "id": "EZ6pUjPMJVqM"
      }
    },
    {
      "cell_type": "markdown",
      "source": [
        "11. What is method overloading in Python?\n",
        ">>Python doesn’t support true method overloading, but you can simulate it using default arguments or *args.\n",
        "#example\n",
        "    def greet(self, name=None):\n",
        "    if name:\n",
        "        print(f\"Hello {name}\")\n",
        "    else:\n",
        "        print(\"Hello\")\n"
      ],
      "metadata": {
        "id": "kzEP4T7xJlfe"
      }
    },
    {
      "cell_type": "markdown",
      "source": [
        "12. What is method overriding in OOP?\n",
        ">>A child class redefines a method inherited from the parent class."
      ],
      "metadata": {
        "id": "o61WAGE1LIQM"
      }
    },
    {
      "cell_type": "markdown",
      "source": [
        "13.What is a property decorator in Python?\n",
        ">>property turns a method into a read-only property, allowing access like an attribute.\n",
        "#example\n",
        "    class Circle:\n",
        "    def __init__(self, radius):\n",
        "        self._radius = radius\n",
        "\n",
        "    @property\n",
        "    def area(self):\n",
        "        return 3.14 * self._radius ** 2\n"
      ],
      "metadata": {
        "id": "j1eKCR0iLTpF"
      }
    },
    {
      "cell_type": "markdown",
      "source": [
        "14.Why is polymorphism important in OOP?\n",
        ">>Polymorphism allows flexibility and extensibility, enabling a function or method to work with objects of different types."
      ],
      "metadata": {
        "id": "BCc-Uty2Ly8K"
      }
    },
    {
      "cell_type": "markdown",
      "source": [
        "15.What is an abstract class in Python?\n",
        ">>An abstract class cannot be instantiated and is used to define methods that must be implemented in subclasses. Use abc module.\n",
        "#EXAMPLE\n",
        "    from abc import ABC, abstractmethod\n",
        "\n",
        "    class Animal(ABC):\n",
        "    @abstractmethod\n",
        "    def speak(self):\n",
        "        pass\n",
        "   "
      ],
      "metadata": {
        "id": "oXF1rv7kMA74"
      }
    },
    {
      "cell_type": "markdown",
      "source": [
        "16.What are the advantages of OOP?\n",
        " * Code reusability\n",
        "\n",
        "* Modularity\n",
        "\n",
        "* Scalability\n",
        "\n",
        "* Easier maintenance\n",
        "\n",
        "* Better data protection\n"
      ],
      "metadata": {
        "id": "Wc2T091LMWTM"
      }
    },
    {
      "cell_type": "markdown",
      "source": [
        "17. What is multiple inheritance in Python?\n",
        ">>A class inherits from more than one parent class.\n",
        "#EXAMPLE\n",
        "    class A: pass\n",
        "    class B: pass\n",
        "    class C(A, B): pass\n"
      ],
      "metadata": {
        "id": "tYCi-VGGM_I3"
      }
    },
    {
      "cell_type": "markdown",
      "source": [
        "18. Difference between a class variable and an instance variable\n",
        "* Class variable: Shared across all instances.\n",
        "* Instance variable: Unique to each object."
      ],
      "metadata": {
        "id": "yB4VLuhbNO8W"
      }
    },
    {
      "cell_type": "markdown",
      "source": [
        "19. Explain the purpose of ‘’__str__’ and ‘__repr__’ ‘ methods in Python?\n",
        "* __str__: Human-readable string (print()).\n",
        "\n",
        "* __repr__: Developer-readable string (repr(), debugging)."
      ],
      "metadata": {
        "id": "2r_hz3ZANikJ"
      }
    },
    {
      "cell_type": "markdown",
      "source": [
        "20.What is the significance of the ‘super()’ function in Python?\n",
        ">>super() allows you to call methods of a parent class, useful in method overriding and multiple inheritance."
      ],
      "metadata": {
        "id": "MQH1cIIANxXa"
      }
    },
    {
      "cell_type": "markdown",
      "source": [
        "21.What is the significance of the __del__ method in Python?\n",
        ">>__del__ is a destructor method called when an object is about to be destroyed. Use with caution; not always reliable due to garbage collection."
      ],
      "metadata": {
        "id": "6KKCqlt5OgU3"
      }
    },
    {
      "cell_type": "markdown",
      "source": [
        "22. What is the difference between @staticmethod and @classmethod in Python\n",
        "*        | Feature        | @staticmethod    | @classmethod                  |\n",
        "         | First argument | None             | `cls`                         |\n",
        "         | Access class?  | No               | Yes                           |\n",
        "         | Use case       | Utility function | Factory methods, class config |\n"
      ],
      "metadata": {
        "id": "NHjjitpuOylX"
      }
    },
    {
      "cell_type": "markdown",
      "source": [
        "23.How does polymorphism work in Python with inheritance?\n",
        ">>Python supports runtime polymorphism via method overriding. A base class reference can point to child class objects and call the overridden method."
      ],
      "metadata": {
        "id": "1_RO-IgxPqB7"
      }
    },
    {
      "cell_type": "markdown",
      "source": [
        "24.What is method chaining in Python OOP?\n",
        ">>Method chaining returns self from methods to allow calling multiple methods in a single line.  \n",
        "\n",
        "    class Example:\n",
        "    def step1(self):\n",
        "    print(\"Step 1\")\n",
        "    return self\n",
        "\n",
        "    def step2(self):\n",
        "    print(\"Step 2\")\n",
        "    return self\n",
        "\n",
        "    e = Example().step1().step2()\n"
      ],
      "metadata": {
        "id": "3EJ4s7O-QHPk"
      }
    },
    {
      "cell_type": "markdown",
      "source": [
        "25.What is the purpose of the __call__ method in Python?\n",
        ">>Makes an object callable like a function.\n",
        "#example\n",
        "    class Greeter:\n",
        "    def __call__(self, name):\n",
        "     print(f\"Hello {name}\")\n",
        "\n",
        "    g = Greeter()\n",
        "    g(\"Alice\")  # Output: Hello Alice\n"
      ],
      "metadata": {
        "id": "Cz2Zc67xQv6z"
      }
    },
    {
      "cell_type": "markdown",
      "source": [
        "#PRACTICAL QUESTION"
      ],
      "metadata": {
        "id": "MehVS9OSRIuQ"
      }
    },
    {
      "cell_type": "code",
      "source": [
        "#Create a parent class Animal with a method speak() that prints a generic message. Create a child class Dog that overrides the speak() method to print \"Bark!\"\n",
        "class Animal:\n",
        "    def speak(self):\n",
        "        print(\"Generic animal sound\")\n",
        "\n",
        "class Dog(Animal):\n",
        "    def speak(self):\n",
        "        print(\"Bark!\")\n",
        "\n",
        "dog = Dog()\n",
        "dog.speak()\n"
      ],
      "metadata": {
        "colab": {
          "base_uri": "https://localhost:8080/"
        },
        "id": "JFf1pdGqRm-b",
        "outputId": "66f79f19-30e6-4c0b-b471-7689d57349dc"
      },
      "execution_count": null,
      "outputs": [
        {
          "output_type": "stream",
          "name": "stdout",
          "text": [
            "Bark!\n"
          ]
        }
      ]
    },
    {
      "cell_type": "code",
      "source": [
        "#2. Write a program to create an abstract class Shape with a method area(). Derive classes Circle and Rectangle from it and implement the area() method in both.\n",
        "from abc import ABC, abstractmethod\n",
        "\n",
        "class Shape(ABC):\n",
        "    @abstractmethod\n",
        "    def area(self):\n",
        "        pass\n",
        "        from abc import ABC, abstractmethod\n",
        "import math\n",
        "\n",
        "# Abstract class\n",
        "class Shape(ABC):\n",
        "    @abstractmethod\n",
        "    def area(self):\n",
        "        pass\n",
        "\n",
        "# Derived class: Circle\n",
        "class Circle(Shape):\n",
        "    def __init__(self, radius):\n",
        "        self.radius = radius\n",
        "\n",
        "    def area(self):\n",
        "        return math.pi * self.radius ** 2\n",
        "\n",
        "# Derived class: Rectangle\n",
        "class Rectangle(Shape):\n",
        "    def __init__(self, length, width):\n",
        "        self.length = length\n",
        "        self.width = width\n",
        "\n",
        "    def area(self):\n",
        "        return self.length * self.width\n",
        "\n",
        "# Testing the classes\n",
        "circle = Circle(5)\n",
        "rectangle = Rectangle(4, 6)\n",
        "\n",
        "print(f\"Area of Circle: {circle.area():.2f}\")\n",
        "print(f\"Area of Rectangle: {rectangle.area():.2f}\")\n"
      ],
      "metadata": {
        "colab": {
          "base_uri": "https://localhost:8080/"
        },
        "id": "zfLWbKt7SY01",
        "outputId": "5b884623-6e13-4ac1-8cb5-faa35d1bc654"
      },
      "execution_count": null,
      "outputs": [
        {
          "output_type": "stream",
          "name": "stdout",
          "text": [
            "Area of Circle: 78.54\n",
            "Area of Rectangle: 24.00\n"
          ]
        }
      ]
    },
    {
      "cell_type": "code",
      "source": [
        "#Implement a multi-level inheritance scenario where a class Vehicle has an attribute type. Derive a class Car and further derive a class ElectricCar that adds a battery attribute\n",
        "# Base class\n",
        "class Vehicle:\n",
        "    def __init__(self, vehicle_type):\n",
        "        self.type = vehicle_type\n",
        "\n",
        "    def display_info(self):\n",
        "        print(f\"Vehicle Type: {self.type}\")\n",
        "\n",
        "# Derived class\n",
        "class Car(Vehicle):\n",
        "    def __init__(self, vehicle_type, brand):\n",
        "        super().__init__(vehicle_type)\n",
        "        self.brand = brand\n",
        "\n",
        "    def display_info(self):\n",
        "        super().display_info()\n",
        "        print(f\"Car Brand: {self.brand}\")\n",
        "\n",
        "# Further derived class\n",
        "class ElectricCar(Car):\n",
        "    def __init__(self, vehicle_type, brand, battery_capacity):\n",
        "        super().__init__(vehicle_type, brand)\n",
        "        self.battery = battery_capacity\n",
        "\n",
        "    def display_info(self):\n",
        "        super().display_info()\n",
        "        print(f\"Battery Capacity: {self.battery} kWh\")\n",
        "\n",
        "# Testing the classes\n",
        "ecar = ElectricCar(\"Four Wheeler\", \"Tesla\", 75)\n",
        "ecar.display_info()\n",
        "\n"
      ],
      "metadata": {
        "colab": {
          "base_uri": "https://localhost:8080/"
        },
        "id": "t4bYKnhyToWU",
        "outputId": "93546013-4a85-46bf-b35f-e6161c723a77"
      },
      "execution_count": null,
      "outputs": [
        {
          "output_type": "stream",
          "name": "stdout",
          "text": [
            "Vehicle Type: Four Wheeler\n",
            "Car Brand: Tesla\n",
            "Battery Capacity: 75 kWh\n"
          ]
        }
      ]
    },
    {
      "cell_type": "code",
      "source": [
        "#Demonstrate polymorphism by creating a base class Bird with a method fly(). Create two derived classes Sparrow and Penguin that override the fly() method.\n",
        "# Base class\n",
        "class Bird:\n",
        "    def fly(self):\n",
        "        print(\"Some birds can fly.\")\n",
        "\n",
        "# Derived class: Sparrow\n",
        "class Sparrow(Bird):\n",
        "    def fly(self):\n",
        "        print(\"Sparrow flies high in the sky.\")\n",
        "\n",
        "# Derived class: Penguin\n",
        "class Penguin(Bird):\n",
        "    def fly(self):\n",
        "        print(\"Penguins cannot fly, but they swim very well.\")\n",
        "\n",
        "# Function that uses polymorphism\n",
        "def bird_flight(bird):\n",
        "    bird.fly()\n",
        "\n",
        "# Testing polymorphism\n",
        "bird1 = Sparrow()\n",
        "bird2 = Penguin()\n",
        "\n",
        "bird_flight(bird1)  # Output: Sparrow flies high in the sky.\n",
        "bird_flight(bird2)  # Output: Penguins cannot fly, but they swim very well.\n"
      ],
      "metadata": {
        "id": "dPL74MsUUqMb"
      },
      "execution_count": null,
      "outputs": []
    },
    {
      "cell_type": "code",
      "source": [
        "#Write a program to demonstrate encapsulation by creating a class BankAccount with private attributes balance and methods to deposit, withdraw, and check balance.\n",
        "class BankAccount:\n",
        "    def __init__(self, initial_balance=0):\n",
        "        # Private attribute\n",
        "        self.__balance = initial_balance\n",
        "\n",
        "    # Method to deposit money\n",
        "    def deposit(self, amount):\n",
        "        if amount > 0:\n",
        "            self.__balance += amount\n",
        "            print(f\"Deposited: ${amount}\")\n",
        "        else:\n",
        "            print(\"Deposit amount must be positive.\")\n",
        "\n",
        "    # Method to withdraw money\n",
        "    def withdraw(self, amount):\n",
        "        if amount <= 0:\n",
        "            print(\"Withdrawal amount must be positive.\")\n",
        "        elif amount > self.__balance:\n",
        "            print(\"Insufficient balance.\")\n",
        "        else:\n",
        "            self.__balance -= amount\n",
        "            print(f\"Withdrew: ${amount}\")\n",
        "\n",
        "    # Method to check balance\n",
        "    def check_balance(self):\n",
        "        print(f\"Current balance: ${self.__balance}\")\n",
        "\n",
        "#example\n",
        "\n",
        "account = BankAccount(100)  # Create account with initial balance of $100\n",
        "\n",
        "account.check_balance()     # Check balance\n",
        "account.deposit(50)         # Deposit $50\n",
        "account.withdraw(30)        # Withdraw $30\n",
        "account.withdraw(150)       # Attempt to withdraw more than available\n",
        "account.check_balance()     # Final balance\n",
        "\n",
        "# Trying to access private attribute directly (not recommended)\n",
        "# print(account.__balance)  # This will raise an AttributeError\n"
      ],
      "metadata": {
        "colab": {
          "base_uri": "https://localhost:8080/"
        },
        "id": "PxQoqX9vb71A",
        "outputId": "12f821c6-520d-4a70-f065-c121787f00e9"
      },
      "execution_count": 1,
      "outputs": [
        {
          "output_type": "stream",
          "name": "stdout",
          "text": [
            "Current balance: $100\n",
            "Deposited: $50\n",
            "Withdrew: $30\n",
            "Insufficient balance.\n",
            "Current balance: $120\n"
          ]
        }
      ]
    },
    {
      "cell_type": "code",
      "source": [
        "#Demonstrate runtime polymorphism using a method play() in a base class Instrument. Derive classes Guitar and Piano that implement their own version of play().\n",
        "class Instrument:\n",
        "    def play(self):\n",
        "        print(\"The instrument is playing.\")\n",
        "\n",
        "class Guitar(Instrument):\n",
        "    def play(self):\n",
        "        print(\"Strumming the guitar.\")\n",
        "\n",
        "class Piano(Instrument):\n",
        "    def play(self):\n",
        "        print(\"Playing the piano.\")\n",
        "\n",
        "# List of instruments (base class references)\n",
        "instruments = [Guitar(), Piano(), Instrument()]\n",
        "\n",
        "# Demonstrate runtime polymorphism\n",
        "for instrument in instruments:\n",
        "    instrument.play()  # Correct play() is called based on actual object\n"
      ],
      "metadata": {
        "id": "fUboGPjrU_Fg",
        "colab": {
          "base_uri": "https://localhost:8080/"
        },
        "outputId": "cc3bf0b3-9f01-428f-d8d1-0295cd96997d"
      },
      "execution_count": 2,
      "outputs": [
        {
          "output_type": "stream",
          "name": "stdout",
          "text": [
            "Strumming the guitar.\n",
            "Playing the piano.\n",
            "The instrument is playing.\n"
          ]
        }
      ]
    },
    {
      "cell_type": "code",
      "source": [
        "# Create a class MathOperations with a class method add_numbers() to add two numbers and a static method subtract_numbers() to subtract two numbers.\n",
        "class MathOperations:\n",
        "\n",
        "    # Class method to add two numbers\n",
        "    @classmethod\n",
        "    def add_numbers(cls, a, b):\n",
        "        return a + b\n",
        "\n",
        "    # Static method to subtract two numbers\n",
        "    @staticmethod\n",
        "    def subtract_numbers(a, b):\n",
        "        return a - b\n",
        "\n",
        "# Example Usage -\n",
        "\n",
        "# Using class method\n",
        "sum_result = MathOperations.add_numbers(10, 5)\n",
        "print(f\"Sum: {sum_result}\")\n",
        "\n",
        "# Using static method\n",
        "difference_result = MathOperations.subtract_numbers(10, 5)\n",
        "print(f\"Difference: {difference_result}\")\n"
      ],
      "metadata": {
        "colab": {
          "base_uri": "https://localhost:8080/"
        },
        "id": "0gFJZn-5b7LI",
        "outputId": "36009404-a659-412b-fe4c-43680ff6cbe6"
      },
      "execution_count": 3,
      "outputs": [
        {
          "output_type": "stream",
          "name": "stdout",
          "text": [
            "Sum: 15\n",
            "Difference: 5\n"
          ]
        }
      ]
    },
    {
      "cell_type": "code",
      "source": [
        "#Implement a class Person with a class method to count the total number of persons created\n",
        "class Person:\n",
        "    # Class variable to keep track of number of persons\n",
        "    count = 0\n",
        "\n",
        "    def __init__(self, name):\n",
        "        self.name = name\n",
        "        Person.count += 1  # Increment count when a new person is created\n",
        "\n",
        "    # Class method to get the total number of persons\n",
        "    @classmethod\n",
        "    def get_person_count(cls):\n",
        "        return cls.count\n",
        "\n",
        "#  Example Usage\n",
        "\n",
        "p1 = Person(\"pawan\")\n",
        "p2 = Person(\"aparna\")\n",
        "p3 = Person(\"akku\")\n",
        "\n",
        "print(f\"Total number of persons created: {Person.get_person_count()}\")\n"
      ],
      "metadata": {
        "colab": {
          "base_uri": "https://localhost:8080/"
        },
        "id": "-uQUSmgadEy7",
        "outputId": "ecde21a1-2fe9-41c6-c962-1abb97a8a1e8"
      },
      "execution_count": 8,
      "outputs": [
        {
          "output_type": "stream",
          "name": "stdout",
          "text": [
            "Total number of persons created: 3\n"
          ]
        }
      ]
    },
    {
      "cell_type": "code",
      "source": [
        "# Write a class Fraction with attributes numerator and denominator. Override the str method to display the fraction as \"numerator/denominator\".\n",
        "class Fraction:\n",
        "    def __init__(self, numerator, denominator):\n",
        "        if denominator == 0:\n",
        "            raise ValueError(\"Denominator cannot be zero.\")\n",
        "        self.numerator = numerator\n",
        "        self.denominator = denominator\n",
        "\n",
        "    # Override __str__ method to display the fraction\n",
        "    def __str__(self):\n",
        "        return f\"{self.numerator}/{self.denominator}\"\n",
        "\n",
        "#  Example Usage\n",
        "\n",
        "f1 = Fraction(3, 4)\n",
        "f2 = Fraction(5, 2)\n",
        "\n",
        "print(f\"Fraction 1: {f1}\")\n",
        "print(f\"Fraction 2: {f2}\")\n"
      ],
      "metadata": {
        "id": "P2dfUqWldb-P"
      },
      "execution_count": null,
      "outputs": []
    },
    {
      "cell_type": "code",
      "source": [
        "#Demonstrate operator overloading by creating a class Vector and overriding the add method to add two vectors\n",
        "class Vector:\n",
        "    def __init__(self, x, y):\n",
        "        self.x = x\n",
        "        self.y = y\n",
        "\n",
        "    # Overload the + operator\n",
        "    def __add__(self, other):\n",
        "        if isinstance(other, Vector):\n",
        "            return Vector(self.x + other.x, self.y + other.y)\n",
        "        return NotImplemented\n",
        "\n",
        "    # String representation of the vector\n",
        "    def __str__(self):\n",
        "        return f\"({self.x}, {self.y})\"\n",
        "\n",
        "#  Example Usage\n",
        "\n",
        "v1 = Vector(2, 3)\n",
        "v2 = Vector(4, 5)\n",
        "\n",
        "v3 = v1 + v2  # This uses the overloaded __add__ method\n",
        "\n",
        "print(f\"Vector 1: {v1}\")\n",
        "print(f\"Vector 2: {v2}\")\n",
        "print(f\"Vector 3 (v1 + v2): {v3}\")\n",
        "\n"
      ],
      "metadata": {
        "colab": {
          "base_uri": "https://localhost:8080/"
        },
        "id": "Hv-9TmVtdvPm",
        "outputId": "b53c1ecf-b0ac-4746-db1e-06408cb84a97"
      },
      "execution_count": 5,
      "outputs": [
        {
          "output_type": "stream",
          "name": "stdout",
          "text": [
            "Vector 1: (2, 3)\n",
            "Vector 2: (4, 5)\n",
            "Vector 3 (v1 + v2): (6, 8)\n"
          ]
        }
      ]
    },
    {
      "cell_type": "code",
      "source": [
        "# Create a class Person with attributes name and age. Add a method greet() that prints \"Hello, my name is {name} and I am {age} years old.\"\n",
        "class Person:\n",
        "    def __init__(self, name, age):\n",
        "        self.name = name\n",
        "        self.age = age\n",
        "\n",
        "    def greet(self):\n",
        "        print(f\"Hello, my name is {self.name} and I am {self.age} years old.\")\n",
        "\n",
        "# ---------- Example Usage ----------\n",
        "\n",
        "p1 = Person(\"Aparna\", 30)\n",
        "p2 = Person(\"apoorva\", 25)\n",
        "\n",
        "p1.greet()\n",
        "p2.greet()\n"
      ],
      "metadata": {
        "colab": {
          "base_uri": "https://localhost:8080/"
        },
        "id": "R7Kr13kSeSuD",
        "outputId": "d54a59d9-f52e-49cb-e0ae-b9097ea5fbb4"
      },
      "execution_count": 7,
      "outputs": [
        {
          "output_type": "stream",
          "name": "stdout",
          "text": [
            "Hello, my name is Aparna and I am 30 years old.\n",
            "Hello, my name is apoorva and I am 25 years old.\n"
          ]
        }
      ]
    },
    {
      "cell_type": "code",
      "source": [
        "# Implement a class Student with attributes name and grades. Create a method average_grade() to compute the average of the grades.\n",
        "class Student:\n",
        "    def __init__(self, name, grades):\n",
        "        self.name = name\n",
        "        self.grades = grades  # Expected to be a list of numbers\n",
        "\n",
        "    def average_grade(self):\n",
        "        if not self.grades:\n",
        "            return 0  # Avoid division by zero\n",
        "        return sum(self.grades) / len(self.grades)\n",
        "\n",
        "#  Example Usage\n",
        "\n",
        "s1 = Student(\"Aparna\", [85, 90, 78])\n",
        "s2 = Student(\"babita\", [70, 75, 80, 85])\n",
        "\n",
        "print(f\"{s1.name}'s average grade: {s1.average_grade():.2f}\")\n",
        "print(f\"{s2.name}'s average grade: {s2.average_grade():.2f}\")\n"
      ],
      "metadata": {
        "colab": {
          "base_uri": "https://localhost:8080/"
        },
        "id": "EdcyEOSAez4a",
        "outputId": "793c8ddb-ff46-4fb8-f94a-ad9eb79a684f"
      },
      "execution_count": 10,
      "outputs": [
        {
          "output_type": "stream",
          "name": "stdout",
          "text": [
            "Aparna's average grade: 84.33\n",
            "babita's average grade: 77.50\n"
          ]
        }
      ]
    },
    {
      "cell_type": "code",
      "source": [
        "#. Create a class Rectangle with methods set_dimensions() to set the dimensions and area() to calculate the area\n",
        "class Rectangle:\n",
        "    def __init__(self):\n",
        "        self.width = 0\n",
        "        self.height = 0\n",
        "\n",
        "    # Method to set dimensions\n",
        "    def set_dimensions(self, width, height):\n",
        "        if width <= 0 or height <= 0:\n",
        "            raise ValueError(\"Width and height must be positive numbers.\")\n",
        "        self.width = width\n",
        "        self.height = height\n",
        "\n",
        "    # Method to calculate area\n",
        "    def area(self):\n",
        "        return self.width * self.height\n",
        "\n",
        "#  Example Usage\n",
        "\n",
        "rect = Rectangle()\n",
        "rect.set_dimensions(5, 10)\n",
        "\n",
        "print(f\"Rectangle Width: {rect.width}\")\n",
        "print(f\"Rectangle Height: {rect.height}\")\n",
        "print(f\"Area of the rectangle: {rect.area()}\")\n"
      ],
      "metadata": {
        "colab": {
          "base_uri": "https://localhost:8080/"
        },
        "id": "ivz-2bOxfTmW",
        "outputId": "d6381d3b-5dc1-41ab-c22c-ff731e4b8245"
      },
      "execution_count": 11,
      "outputs": [
        {
          "output_type": "stream",
          "name": "stdout",
          "text": [
            "Rectangle Width: 5\n",
            "Rectangle Height: 10\n",
            "Area of the rectangle: 50\n"
          ]
        }
      ]
    },
    {
      "cell_type": "code",
      "source": [
        "#Create a class Employee with a method calculate_salary() that computes the salary based on hours worked and hourly rate. Create a derived class Manager that adds a bonus to the salary\n",
        "# Base class\n",
        "class Employee:\n",
        "    def __init__(self, name, hours_worked, hourly_rate):\n",
        "        self.name = name\n",
        "        self.hours_worked = hours_worked\n",
        "        self.hourly_rate = hourly_rate\n",
        "\n",
        "    def calculate_salary(self):\n",
        "        return self.hours_worked * self.hourly_rate\n",
        "\n",
        "# Derived class\n",
        "class Manager(Employee):\n",
        "    def __init__(self, name, hours_worked, hourly_rate, bonus):\n",
        "        super().__init__(name, hours_worked, hourly_rate)\n",
        "        self.bonus = bonus\n",
        "\n",
        "    def calculate_salary(self):\n",
        "        base_salary = super().calculate_salary()\n",
        "        return base_salary + self.bonus\n",
        "\n",
        "# ---------- Example Usage ----------\n",
        "\n",
        "# Regular employee\n",
        "emp = Employee(\"Akku\", 40, 20)\n",
        "print(f\"{emp.name}'s salary: ${emp.calculate_salary()}\")\n",
        "\n",
        "# Manager with a bonus\n",
        "mgr = Manager(\"aparna\", 40, 30, 500)\n",
        "print(f\"{mgr.name}'s salary (with bonus): ${mgr.calculate_salary()}\")\n"
      ],
      "metadata": {
        "colab": {
          "base_uri": "https://localhost:8080/"
        },
        "id": "-4AhjNXbfkKc",
        "outputId": "f16269b9-245d-4e98-dffa-47b6c439de74"
      },
      "execution_count": 12,
      "outputs": [
        {
          "output_type": "stream",
          "name": "stdout",
          "text": [
            "Akku's salary: $800\n",
            "aparna's salary (with bonus): $1700\n"
          ]
        }
      ]
    },
    {
      "cell_type": "code",
      "source": [
        "#Create a class Product with attributes name, price, and quantity. Implement a method total_price() that calculates the total price of the product\n",
        "class Product:\n",
        "    def __init__(self, name, price, quantity):\n",
        "        self.name = name\n",
        "        self.price = price\n",
        "        self.quantity = quantity\n",
        "\n",
        "    def total_price(self):\n",
        "        return self.price * self.quantity\n",
        "\n",
        "#  Example Usage\n",
        "\n",
        "p = Product(\"Laptop\", 1200.50, 3)\n",
        "print(f\"Product: {p.name}\")\n",
        "print(f\"Price per unit: ${p.price}\")\n",
        "print(f\"Quantity: {p.quantity}\")\n",
        "print(f\"Total price: ${p.total_price():.2f}\")\n"
      ],
      "metadata": {
        "colab": {
          "base_uri": "https://localhost:8080/"
        },
        "id": "e-3NKAHif4Ja",
        "outputId": "09d2565f-c001-4fec-f65d-7a9f77ce5dba"
      },
      "execution_count": 13,
      "outputs": [
        {
          "output_type": "stream",
          "name": "stdout",
          "text": [
            "Product: Laptop\n",
            "Price per unit: $1200.5\n",
            "Quantity: 3\n",
            "Total price: $3601.50\n"
          ]
        }
      ]
    },
    {
      "cell_type": "code",
      "source": [
        "#Create a class Animal with an abstract method sound(). Create two derived classes Cow and Sheep that implement the sound() method\n",
        "from abc import ABC, abstractmethod\n",
        "\n",
        "# Abstract base class\n",
        "class Animal(ABC):\n",
        "\n",
        "    @abstractmethod\n",
        "    def sound(self):\n",
        "        pass\n",
        "\n",
        "# Derived class Cow\n",
        "class Cow(Animal):\n",
        "    def sound(self):\n",
        "        return \"Moo\"\n",
        "\n",
        "# Derived class Sheep\n",
        "class Sheep(Animal):\n",
        "    def sound(self):\n",
        "        return \"Baa\"\n",
        "\n",
        "#  Example Usage\n",
        "\n",
        "animals = [Cow(), Sheep()]\n",
        "\n",
        "for animal in animals:\n",
        "    print(f\"{animal.__class__.__name__} says: {animal.sound()}\")\n"
      ],
      "metadata": {
        "colab": {
          "base_uri": "https://localhost:8080/"
        },
        "id": "XAUEfVfSgIJK",
        "outputId": "d544f93e-97ed-447b-e2c7-7692b7731ceb"
      },
      "execution_count": 14,
      "outputs": [
        {
          "output_type": "stream",
          "name": "stdout",
          "text": [
            "Cow says: Moo\n",
            "Sheep says: Baa\n"
          ]
        }
      ]
    },
    {
      "cell_type": "code",
      "source": [
        "#Create a class Book with attributes title, author, and year_published. Add a method get_book_info() that returns a formatted string with the book's details\n",
        "class Book:\n",
        "    def __init__(self, title, author, year_published):\n",
        "        self.title = title\n",
        "        self.author = author\n",
        "        self.year_published = year_published\n",
        "\n",
        "    def get_book_info(self):\n",
        "        return f\"'{self.title}' by {self.author}, published in {self.year_published}\"\n",
        "\n",
        "# ---------- Example Usage ----------\n",
        "\n",
        "book = Book(\"1984\", \"aparna\", 1949)\n",
        "print(book.get_book_info())\n"
      ],
      "metadata": {
        "colab": {
          "base_uri": "https://localhost:8080/"
        },
        "id": "8WEWSCDbgeOt",
        "outputId": "88d2aec8-c492-4afd-e2b3-e04b976c7ce5"
      },
      "execution_count": 15,
      "outputs": [
        {
          "output_type": "stream",
          "name": "stdout",
          "text": [
            "'1984' by aparna, published in 1949\n"
          ]
        }
      ]
    },
    {
      "cell_type": "code",
      "source": [
        "#Create a class House with attributes address and price. Create a derived class Mansion that adds an attribute number_of_rooms\n",
        "class House:\n",
        "    def __init__(self, address, price):\n",
        "        self.address = address\n",
        "        self.price = price\n",
        "\n",
        "    def __str__(self):\n",
        "        return f\"House at {self.address}, priced at ${self.price}\"\n",
        "\n",
        "class Mansion(House):\n",
        "    def __init__(self, address, price, number_of_rooms):\n",
        "        super().__init__(address, price)\n",
        "        self.number_of_rooms = number_of_rooms\n",
        "\n",
        "    def __str__(self):\n",
        "        return f\"Mansion at {self.address}, priced at ${self.price}, with {self.number_of_rooms} rooms\"\n",
        "\n",
        "#  Example Usage\n",
        "\n",
        "h = House(\"123 Maple St\", 250000)\n",
        "m = Mansion(\"456 Oak Ave\", 1200000, 10)\n",
        "\n",
        "print(h)\n",
        "print(m)\n"
      ],
      "metadata": {
        "colab": {
          "base_uri": "https://localhost:8080/"
        },
        "id": "G3OtKOoigo3c",
        "outputId": "ced0d9b1-e557-403e-b460-ec756c08f88f"
      },
      "execution_count": 16,
      "outputs": [
        {
          "output_type": "stream",
          "name": "stdout",
          "text": [
            "House at 123 Maple St, priced at $250000\n",
            "Mansion at 456 Oak Ave, priced at $1200000, with 10 rooms\n"
          ]
        }
      ]
    },
    {
      "cell_type": "markdown",
      "source": [
        "#thank you sir\n",
        ""
      ],
      "metadata": {
        "id": "P_ceUxZpg7Ke"
      }
    },
    {
      "cell_type": "markdown",
      "source": [],
      "metadata": {
        "id": "5NK6G8pyU-un"
      }
    },
    {
      "cell_type": "markdown",
      "source": [],
      "metadata": {
        "id": "zn55HzTkUpgw"
      }
    },
    {
      "cell_type": "markdown",
      "source": [],
      "metadata": {
        "id": "dX5Eva14RPpz"
      }
    },
    {
      "cell_type": "markdown",
      "source": [],
      "metadata": {
        "id": "j5bk5tTWLtZG"
      }
    },
    {
      "cell_type": "markdown",
      "source": [],
      "metadata": {
        "id": "-jtehr31GDNE"
      }
    },
    {
      "cell_type": "markdown",
      "source": [],
      "metadata": {
        "id": "9m6B9F8-FFFN"
      }
    },
    {
      "cell_type": "markdown",
      "source": [],
      "metadata": {
        "id": "KF5TvthbCsCS"
      }
    },
    {
      "cell_type": "markdown",
      "source": [],
      "metadata": {
        "id": "uPpTWUahCkzA"
      }
    },
    {
      "cell_type": "markdown",
      "source": [],
      "metadata": {
        "id": "TipjZLM5CNfc"
      }
    },
    {
      "cell_type": "markdown",
      "source": [],
      "metadata": {
        "id": "91Q7mQ-2CF6r"
      }
    },
    {
      "cell_type": "code",
      "execution_count": null,
      "metadata": {
        "id": "O-yRi1iDBt2H"
      },
      "outputs": [],
      "source": []
    }
  ]
}